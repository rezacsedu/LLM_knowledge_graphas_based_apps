{
  "nbformat": 4,
  "nbformat_minor": 0,
  "metadata": {
    "colab": {
      "provenance": []
    },
    "kernelspec": {
      "name": "python3",
      "display_name": "Python 3"
    },
    "language_info": {
      "name": "python"
    }
  },
  "cells": [
    {
      "cell_type": "code",
      "source": [
        "!pip install rdflib"
      ],
      "metadata": {
        "colab": {
          "base_uri": "https://localhost:8080/"
        },
        "id": "zsLSPBZWYR55",
        "outputId": "57df50b9-ab01-49d9-9410-39828c660c4d"
      },
      "execution_count": 1,
      "outputs": [
        {
          "output_type": "stream",
          "name": "stdout",
          "text": [
            "Requirement already satisfied: rdflib in /usr/local/lib/python3.10/dist-packages (7.1.1)\n",
            "Requirement already satisfied: isodate<1.0.0,>=0.7.2 in /usr/local/lib/python3.10/dist-packages (from rdflib) (0.7.2)\n",
            "Requirement already satisfied: pyparsing<4,>=2.1.0 in /usr/local/lib/python3.10/dist-packages (from rdflib) (3.2.0)\n"
          ]
        }
      ]
    },
    {
      "cell_type": "code",
      "execution_count": 6,
      "metadata": {
        "id": "UCxmlLtlQaII",
        "colab": {
          "base_uri": "https://localhost:8080/",
          "height": 580
        },
        "outputId": "803d8dcb-9cc1-4652-84ac-aff4d332a7b7"
      },
      "outputs": [
        {
          "output_type": "stream",
          "name": "stdout",
          "text": [
            "Collecting openai==0.28\n",
            "  Downloading openai-0.28.0-py3-none-any.whl.metadata (13 kB)\n",
            "Requirement already satisfied: requests>=2.20 in /usr/local/lib/python3.10/dist-packages (from openai==0.28) (2.32.3)\n",
            "Requirement already satisfied: tqdm in /usr/local/lib/python3.10/dist-packages (from openai==0.28) (4.67.1)\n",
            "Requirement already satisfied: aiohttp in /usr/local/lib/python3.10/dist-packages (from openai==0.28) (3.11.7)\n",
            "Requirement already satisfied: charset-normalizer<4,>=2 in /usr/local/lib/python3.10/dist-packages (from requests>=2.20->openai==0.28) (3.4.0)\n",
            "Requirement already satisfied: idna<4,>=2.5 in /usr/local/lib/python3.10/dist-packages (from requests>=2.20->openai==0.28) (3.10)\n",
            "Requirement already satisfied: urllib3<3,>=1.21.1 in /usr/local/lib/python3.10/dist-packages (from requests>=2.20->openai==0.28) (2.2.3)\n",
            "Requirement already satisfied: certifi>=2017.4.17 in /usr/local/lib/python3.10/dist-packages (from requests>=2.20->openai==0.28) (2024.8.30)\n",
            "Requirement already satisfied: aiohappyeyeballs>=2.3.0 in /usr/local/lib/python3.10/dist-packages (from aiohttp->openai==0.28) (2.4.3)\n",
            "Requirement already satisfied: aiosignal>=1.1.2 in /usr/local/lib/python3.10/dist-packages (from aiohttp->openai==0.28) (1.3.1)\n",
            "Requirement already satisfied: async-timeout<6.0,>=4.0 in /usr/local/lib/python3.10/dist-packages (from aiohttp->openai==0.28) (4.0.3)\n",
            "Requirement already satisfied: attrs>=17.3.0 in /usr/local/lib/python3.10/dist-packages (from aiohttp->openai==0.28) (24.2.0)\n",
            "Requirement already satisfied: frozenlist>=1.1.1 in /usr/local/lib/python3.10/dist-packages (from aiohttp->openai==0.28) (1.5.0)\n",
            "Requirement already satisfied: multidict<7.0,>=4.5 in /usr/local/lib/python3.10/dist-packages (from aiohttp->openai==0.28) (6.1.0)\n",
            "Requirement already satisfied: propcache>=0.2.0 in /usr/local/lib/python3.10/dist-packages (from aiohttp->openai==0.28) (0.2.0)\n",
            "Requirement already satisfied: yarl<2.0,>=1.17.0 in /usr/local/lib/python3.10/dist-packages (from aiohttp->openai==0.28) (1.18.0)\n",
            "Requirement already satisfied: typing-extensions>=4.1.0 in /usr/local/lib/python3.10/dist-packages (from multidict<7.0,>=4.5->aiohttp->openai==0.28) (4.12.2)\n",
            "Downloading openai-0.28.0-py3-none-any.whl (76 kB)\n",
            "\u001b[?25l   \u001b[90m━━━━━━━━━━━━━━━━━━━━━━━━━━━━━━━━━━━━━━━━\u001b[0m \u001b[32m0.0/76.5 kB\u001b[0m \u001b[31m?\u001b[0m eta \u001b[36m-:--:--\u001b[0m\r\u001b[2K   \u001b[91m━━━━━━━━━━━━━━━━━━━━━━━━━━━━━━━━━━━━━\u001b[0m\u001b[90m╺\u001b[0m\u001b[90m━━\u001b[0m \u001b[32m71.7/76.5 kB\u001b[0m \u001b[31m2.3 MB/s\u001b[0m eta \u001b[36m0:00:01\u001b[0m\r\u001b[2K   \u001b[90m━━━━━━━━━━━━━━━━━━━━━━━━━━━━━━━━━━━━━━━━\u001b[0m \u001b[32m76.5/76.5 kB\u001b[0m \u001b[31m1.9 MB/s\u001b[0m eta \u001b[36m0:00:00\u001b[0m\n",
            "\u001b[?25hInstalling collected packages: openai\n",
            "  Attempting uninstall: openai\n",
            "    Found existing installation: openai 1.55.1\n",
            "    Uninstalling openai-1.55.1:\n",
            "      Successfully uninstalled openai-1.55.1\n",
            "Successfully installed openai-0.28.0\n"
          ]
        },
        {
          "output_type": "display_data",
          "data": {
            "application/vnd.colab-display-data+json": {
              "pip_warning": {
                "packages": [
                  "openai"
                ]
              },
              "id": "ae9c844c6db248f885b653e84002bb5f"
            }
          },
          "metadata": {}
        }
      ],
      "source": [
        "!pip install openai==0.28"
      ]
    },
    {
      "cell_type": "code",
      "source": [
        "def generate_cancer_genomic_schema(sample_text, output_format):\n",
        "  \"\"\"\n",
        "  Generates a cancer genomic schema with evidence and annotations.\n",
        "\n",
        "  Args:\n",
        "    sample_text: A sample text from the cancer genomic domain.\n",
        "    output_format: The desired output format (\"turtle\" or \"n3\").\n",
        "\n",
        "  Returns:\n",
        "    A string representing the schema in the specified format.\n",
        "  \"\"\"\n",
        "\n",
        "  prompt = f\"\"\"\n",
        "  Generate a schema for a cancer genomic knowledge graph.\n",
        "  Consider the following sample text:\n",
        "\n",
        "  {sample_text}\n",
        "\n",
        "  The schema should include:\n",
        "  * Classes for genes, cancer types, mutations, and scientific publications.\n",
        "  * Properties to link genes to cancer types, mutations to genes, and publications to genes.\n",
        "  * Properties for PubMed IDs, BioPortal annotations, and Tumor Portal annotations.\n",
        "  * Data types for properties.\n",
        "\n",
        "  Output the schema in {output_format} format.\n",
        "  \"\"\"\n",
        "\n",
        "  response = openai.Completion.create(\n",
        "    engine=\"gpt-3.5-turbo-instruct\",  # Updated to a supported engine\n",
        "    prompt=prompt,\n",
        "    max_tokens=1000,  # Adjust as needed\n",
        "    n=1,\n",
        "    stop=None,\n",
        "    temperature=0.7,  # Adjust for creativity\n",
        "  )\n",
        "\n",
        "  schema = response.choices[0].text.strip()\n",
        "  return schema"
      ],
      "metadata": {
        "id": "v9RSMhuMZ3FH"
      },
      "execution_count": 14,
      "outputs": []
    },
    {
      "cell_type": "code",
      "source": [
        "import openai\n",
        "from rdflib import Graph, Literal, Namespace, URIRef\n",
        "\n",
        "# Set your OpenAI API key\n",
        "openai.api_key = \"\"\n",
        "\n",
        "# ... (rest of the generate_cancer_genomic_schema function remains the same) ...\n",
        "\n",
        "# Example usage\n",
        "cancer_genomic_text = \"\"\"\n",
        "Mutations in the EGFR gene are commonly found in lung cancer patients.\n",
        "A study published in PubMed (PMID: 12345678) found that EGFR mutations are associated with increased sensitivity to tyrosine kinase inhibitors.\n",
        "BioPortal provides annotations for EGFR (http://bioportal.org/ontologies/EGFR) and lung cancer (http://bioportal.org/ontologies/LUNG-CANCER).\n",
        "Tumor Portal provides information on EGFR mutations in various cancer types (http://tumorportal.org/genes/EGFR).\n",
        "\"\"\"\n",
        "\n",
        "# Generate schema in Turtle format\n",
        "cancer_genomic_schema_turtle = generate_cancer_genomic_schema(cancer_genomic_text, \"turtle\")\n",
        "\n",
        "# Parse the schema using RDFLib\n",
        "g = Graph()\n",
        "g.parse(data=cancer_genomic_schema_turtle, format=\"turtle\")\n",
        "\n",
        "# Define namespace\n",
        "cg = Namespace(\"http://example.org/cancer_genomic#\")\n",
        "\n",
        "# Add triples based on example sentences\n",
        "# g.add((cg.EGFR, cg.associatedWith, cg.LungCancer))\n",
        "# g.add((cg.EGFR, cg.hasMutation, cg.EGFR_Mutation))\n",
        "\n",
        "# 9 more example sentences and their corresponding triples\n",
        "sentences = [\n",
        "    \"The KRAS gene is frequently mutated in pancreatic cancer.\",\n",
        "    \"A study in PubMed (PMID: 98765432) showed that KRAS mutations are associated with poor prognosis in pancreatic cancer.\",\n",
        "    \"BioPortal has annotations for KRAS (http://bioportal.org/ontologies/KRAS) and pancreatic cancer (http://bioportal.org/ontologies/PANCREATIC-CANCER).\",\n",
        "    \"Tumor Portal provides data on KRAS mutations in various cancers (http://tumorportal.org/genes/KRAS).\",\n",
        "    \"The TP53 gene is the most frequently mutated gene across all cancer types.\",\n",
        "    \"TP53 mutations are linked to a variety of cancers, including breast cancer, colorectal cancer, and lung cancer.\",\n",
        "    \"PubMed has numerous articles on TP53 mutations (e.g., PMID: 11122233).\",\n",
        "    \"BioPortal provides comprehensive annotations for TP53 (http://bioportal.org/ontologies/TP53).\",\n",
        "    \"Tumor Portal offers detailed information on TP53 mutations in different cancers (http://tumorportal.org/genes/TP53).\"\n",
        "]\n",
        "\n",
        "for sentence in sentences:\n",
        "    # This is a simplified example, you would need more sophisticated NLP techniques\n",
        "    # to accurately extract the entities and relationships from each sentence.\n",
        "    if \"KRAS\" in sentence and \"pancreatic cancer\" in sentence:\n",
        "        g.add((cg.KRAS, cg.associatedWith, cg.PancreaticCancer))\n",
        "        if \"PMID\" in sentence:\n",
        "            g.add((cg.KRAS, cg.hasPublication, cg.PMID_98765432))\n",
        "            g.add((cg.PMID_98765432, cg.pubmedID, Literal(\"98765432\")))\n",
        "        if \"BioPortal\" in sentence:\n",
        "            g.add((cg.KRAS, cg.bioportalAnnotation, URIRef(\"http://bioportal.org/ontologies/KRAS\")))\n",
        "            g.add((cg.PancreaticCancer, cg.bioportalAnnotation, URIRef(\"http://bioportal.org/ontologies/PANCREATIC-CANCER\")))\n",
        "        if \"Tumor Portal\" in sentence:\n",
        "            g.add((cg.KRAS, cg.tumorportalAnnotation, URIRef(\"http://tumorportal.org/genes/KRAS\")))\n",
        "    elif \"TP53\" in sentence:\n",
        "        if \"breast cancer\" in sentence:\n",
        "            g.add((cg.TP53, cg.associatedWith, cg.BreastCancer))\n",
        "        if \"colorectal cancer\" in sentence:\n",
        "            g.add((cg.TP53, cg.associatedWith, cg.ColorectalCancer))\n",
        "        if \"lung cancer\" in sentence:\n",
        "            g.add((cg.TP53, cg.associatedWith, cg.LungCancer))\n",
        "        if \"PMID\" in sentence:\n",
        "            g.add((cg.TP53, cg.hasPublication, cg.PMID_11122233))\n",
        "            g.add((cg.PMID_11122233, cg.pubmedID, Literal(\"11122233\")))\n",
        "        if \"BioPortal\" in sentence:\n",
        "            g.add((cg.TP53, cg.bioportalAnnotation, URIRef(\"http://bioportal.org/ontologies/TP53\")))\n",
        "        if \"Tumor Portal\" in sentence:\n",
        "            g.add((cg.TP53, cg.tumorportalAnnotation, URIRef(\"http://tumorportal.org/genes/TP53\")))\n",
        "\n",
        "# Serialize the graph back to Turtle format:\n",
        "print(g.serialize(format=\"turtle\"))"
      ],
      "metadata": {
        "colab": {
          "base_uri": "https://localhost:8080/",
          "height": 383
        },
        "id": "gPVtBvaAYNJf",
        "outputId": "de7ed3f7-662a-4734-991d-aac3824efacc"
      },
      "execution_count": 15,
      "outputs": [
        {
          "output_type": "error",
          "ename": "AuthenticationError",
          "evalue": "You didn't provide an API key. You need to provide your API key in an Authorization header using Bearer auth (i.e. Authorization: Bearer YOUR_KEY), or as the password field (with blank username) if you're accessing the API from your browser and are prompted for a username and password. You can obtain an API key from https://platform.openai.com/account/api-keys.",
          "traceback": [
            "\u001b[0;31m---------------------------------------------------------------------------\u001b[0m",
            "\u001b[0;31mAuthenticationError\u001b[0m                       Traceback (most recent call last)",
            "\u001b[0;32m<ipython-input-15-29650f010b53>\u001b[0m in \u001b[0;36m<cell line: 18>\u001b[0;34m()\u001b[0m\n\u001b[1;32m     16\u001b[0m \u001b[0;34m\u001b[0m\u001b[0m\n\u001b[1;32m     17\u001b[0m \u001b[0;31m# Generate schema in Turtle format\u001b[0m\u001b[0;34m\u001b[0m\u001b[0;34m\u001b[0m\u001b[0m\n\u001b[0;32m---> 18\u001b[0;31m \u001b[0mcancer_genomic_schema_turtle\u001b[0m \u001b[0;34m=\u001b[0m \u001b[0mgenerate_cancer_genomic_schema\u001b[0m\u001b[0;34m(\u001b[0m\u001b[0mcancer_genomic_text\u001b[0m\u001b[0;34m,\u001b[0m \u001b[0;34m\"turtle\"\u001b[0m\u001b[0;34m)\u001b[0m\u001b[0;34m\u001b[0m\u001b[0;34m\u001b[0m\u001b[0m\n\u001b[0m\u001b[1;32m     19\u001b[0m \u001b[0;34m\u001b[0m\u001b[0m\n\u001b[1;32m     20\u001b[0m \u001b[0;31m# Parse the schema using RDFLib\u001b[0m\u001b[0;34m\u001b[0m\u001b[0;34m\u001b[0m\u001b[0m\n",
            "\u001b[0;32m<ipython-input-14-98a21238dc5d>\u001b[0m in \u001b[0;36mgenerate_cancer_genomic_schema\u001b[0;34m(sample_text, output_format)\u001b[0m\n\u001b[1;32m     26\u001b[0m   \"\"\"\n\u001b[1;32m     27\u001b[0m \u001b[0;34m\u001b[0m\u001b[0m\n\u001b[0;32m---> 28\u001b[0;31m   response = openai.Completion.create(\n\u001b[0m\u001b[1;32m     29\u001b[0m     \u001b[0mengine\u001b[0m\u001b[0;34m=\u001b[0m\u001b[0;34m\"gpt-3.5-turbo-instruct\"\u001b[0m\u001b[0;34m,\u001b[0m  \u001b[0;31m# Updated to a supported engine\u001b[0m\u001b[0;34m\u001b[0m\u001b[0;34m\u001b[0m\u001b[0m\n\u001b[1;32m     30\u001b[0m     \u001b[0mprompt\u001b[0m\u001b[0;34m=\u001b[0m\u001b[0mprompt\u001b[0m\u001b[0;34m,\u001b[0m\u001b[0;34m\u001b[0m\u001b[0;34m\u001b[0m\u001b[0m\n",
            "\u001b[0;32m/usr/local/lib/python3.10/dist-packages/openai/api_resources/completion.py\u001b[0m in \u001b[0;36mcreate\u001b[0;34m(cls, *args, **kwargs)\u001b[0m\n\u001b[1;32m     23\u001b[0m         \u001b[0;32mwhile\u001b[0m \u001b[0;32mTrue\u001b[0m\u001b[0;34m:\u001b[0m\u001b[0;34m\u001b[0m\u001b[0;34m\u001b[0m\u001b[0m\n\u001b[1;32m     24\u001b[0m             \u001b[0;32mtry\u001b[0m\u001b[0;34m:\u001b[0m\u001b[0;34m\u001b[0m\u001b[0;34m\u001b[0m\u001b[0m\n\u001b[0;32m---> 25\u001b[0;31m                 \u001b[0;32mreturn\u001b[0m \u001b[0msuper\u001b[0m\u001b[0;34m(\u001b[0m\u001b[0;34m)\u001b[0m\u001b[0;34m.\u001b[0m\u001b[0mcreate\u001b[0m\u001b[0;34m(\u001b[0m\u001b[0;34m*\u001b[0m\u001b[0margs\u001b[0m\u001b[0;34m,\u001b[0m \u001b[0;34m**\u001b[0m\u001b[0mkwargs\u001b[0m\u001b[0;34m)\u001b[0m\u001b[0;34m\u001b[0m\u001b[0;34m\u001b[0m\u001b[0m\n\u001b[0m\u001b[1;32m     26\u001b[0m             \u001b[0;32mexcept\u001b[0m \u001b[0mTryAgain\u001b[0m \u001b[0;32mas\u001b[0m \u001b[0me\u001b[0m\u001b[0;34m:\u001b[0m\u001b[0;34m\u001b[0m\u001b[0;34m\u001b[0m\u001b[0m\n\u001b[1;32m     27\u001b[0m                 \u001b[0;32mif\u001b[0m \u001b[0mtimeout\u001b[0m \u001b[0;32mis\u001b[0m \u001b[0;32mnot\u001b[0m \u001b[0;32mNone\u001b[0m \u001b[0;32mand\u001b[0m \u001b[0mtime\u001b[0m\u001b[0;34m.\u001b[0m\u001b[0mtime\u001b[0m\u001b[0;34m(\u001b[0m\u001b[0;34m)\u001b[0m \u001b[0;34m>\u001b[0m \u001b[0mstart\u001b[0m \u001b[0;34m+\u001b[0m \u001b[0mtimeout\u001b[0m\u001b[0;34m:\u001b[0m\u001b[0;34m\u001b[0m\u001b[0;34m\u001b[0m\u001b[0m\n",
            "\u001b[0;32m/usr/local/lib/python3.10/dist-packages/openai/api_resources/abstract/engine_api_resource.py\u001b[0m in \u001b[0;36mcreate\u001b[0;34m(cls, api_key, api_base, api_type, request_id, api_version, organization, **params)\u001b[0m\n\u001b[1;32m    151\u001b[0m         )\n\u001b[1;32m    152\u001b[0m \u001b[0;34m\u001b[0m\u001b[0m\n\u001b[0;32m--> 153\u001b[0;31m         response, _, api_key = requestor.request(\n\u001b[0m\u001b[1;32m    154\u001b[0m             \u001b[0;34m\"post\"\u001b[0m\u001b[0;34m,\u001b[0m\u001b[0;34m\u001b[0m\u001b[0;34m\u001b[0m\u001b[0m\n\u001b[1;32m    155\u001b[0m             \u001b[0murl\u001b[0m\u001b[0;34m,\u001b[0m\u001b[0;34m\u001b[0m\u001b[0;34m\u001b[0m\u001b[0m\n",
            "\u001b[0;32m/usr/local/lib/python3.10/dist-packages/openai/api_requestor.py\u001b[0m in \u001b[0;36mrequest\u001b[0;34m(self, method, url, params, headers, files, stream, request_id, request_timeout)\u001b[0m\n\u001b[1;32m    296\u001b[0m             \u001b[0mrequest_timeout\u001b[0m\u001b[0;34m=\u001b[0m\u001b[0mrequest_timeout\u001b[0m\u001b[0;34m,\u001b[0m\u001b[0;34m\u001b[0m\u001b[0;34m\u001b[0m\u001b[0m\n\u001b[1;32m    297\u001b[0m         )\n\u001b[0;32m--> 298\u001b[0;31m         \u001b[0mresp\u001b[0m\u001b[0;34m,\u001b[0m \u001b[0mgot_stream\u001b[0m \u001b[0;34m=\u001b[0m \u001b[0mself\u001b[0m\u001b[0;34m.\u001b[0m\u001b[0m_interpret_response\u001b[0m\u001b[0;34m(\u001b[0m\u001b[0mresult\u001b[0m\u001b[0;34m,\u001b[0m \u001b[0mstream\u001b[0m\u001b[0;34m)\u001b[0m\u001b[0;34m\u001b[0m\u001b[0;34m\u001b[0m\u001b[0m\n\u001b[0m\u001b[1;32m    299\u001b[0m         \u001b[0;32mreturn\u001b[0m \u001b[0mresp\u001b[0m\u001b[0;34m,\u001b[0m \u001b[0mgot_stream\u001b[0m\u001b[0;34m,\u001b[0m \u001b[0mself\u001b[0m\u001b[0;34m.\u001b[0m\u001b[0mapi_key\u001b[0m\u001b[0;34m\u001b[0m\u001b[0;34m\u001b[0m\u001b[0m\n\u001b[1;32m    300\u001b[0m \u001b[0;34m\u001b[0m\u001b[0m\n",
            "\u001b[0;32m/usr/local/lib/python3.10/dist-packages/openai/api_requestor.py\u001b[0m in \u001b[0;36m_interpret_response\u001b[0;34m(self, result, stream)\u001b[0m\n\u001b[1;32m    698\u001b[0m         \u001b[0;32melse\u001b[0m\u001b[0;34m:\u001b[0m\u001b[0;34m\u001b[0m\u001b[0;34m\u001b[0m\u001b[0m\n\u001b[1;32m    699\u001b[0m             return (\n\u001b[0;32m--> 700\u001b[0;31m                 self._interpret_response_line(\n\u001b[0m\u001b[1;32m    701\u001b[0m                     \u001b[0mresult\u001b[0m\u001b[0;34m.\u001b[0m\u001b[0mcontent\u001b[0m\u001b[0;34m.\u001b[0m\u001b[0mdecode\u001b[0m\u001b[0;34m(\u001b[0m\u001b[0;34m\"utf-8\"\u001b[0m\u001b[0;34m)\u001b[0m\u001b[0;34m,\u001b[0m\u001b[0;34m\u001b[0m\u001b[0;34m\u001b[0m\u001b[0m\n\u001b[1;32m    702\u001b[0m                     \u001b[0mresult\u001b[0m\u001b[0;34m.\u001b[0m\u001b[0mstatus_code\u001b[0m\u001b[0;34m,\u001b[0m\u001b[0;34m\u001b[0m\u001b[0;34m\u001b[0m\u001b[0m\n",
            "\u001b[0;32m/usr/local/lib/python3.10/dist-packages/openai/api_requestor.py\u001b[0m in \u001b[0;36m_interpret_response_line\u001b[0;34m(self, rbody, rcode, rheaders, stream)\u001b[0m\n\u001b[1;32m    763\u001b[0m         \u001b[0mstream_error\u001b[0m \u001b[0;34m=\u001b[0m \u001b[0mstream\u001b[0m \u001b[0;32mand\u001b[0m \u001b[0;34m\"error\"\u001b[0m \u001b[0;32min\u001b[0m \u001b[0mresp\u001b[0m\u001b[0;34m.\u001b[0m\u001b[0mdata\u001b[0m\u001b[0;34m\u001b[0m\u001b[0;34m\u001b[0m\u001b[0m\n\u001b[1;32m    764\u001b[0m         \u001b[0;32mif\u001b[0m \u001b[0mstream_error\u001b[0m \u001b[0;32mor\u001b[0m \u001b[0;32mnot\u001b[0m \u001b[0;36m200\u001b[0m \u001b[0;34m<=\u001b[0m \u001b[0mrcode\u001b[0m \u001b[0;34m<\u001b[0m \u001b[0;36m300\u001b[0m\u001b[0;34m:\u001b[0m\u001b[0;34m\u001b[0m\u001b[0;34m\u001b[0m\u001b[0m\n\u001b[0;32m--> 765\u001b[0;31m             raise self.handle_error_response(\n\u001b[0m\u001b[1;32m    766\u001b[0m                 \u001b[0mrbody\u001b[0m\u001b[0;34m,\u001b[0m \u001b[0mrcode\u001b[0m\u001b[0;34m,\u001b[0m \u001b[0mresp\u001b[0m\u001b[0;34m.\u001b[0m\u001b[0mdata\u001b[0m\u001b[0;34m,\u001b[0m \u001b[0mrheaders\u001b[0m\u001b[0;34m,\u001b[0m \u001b[0mstream_error\u001b[0m\u001b[0;34m=\u001b[0m\u001b[0mstream_error\u001b[0m\u001b[0;34m\u001b[0m\u001b[0;34m\u001b[0m\u001b[0m\n\u001b[1;32m    767\u001b[0m             )\n",
            "\u001b[0;31mAuthenticationError\u001b[0m: You didn't provide an API key. You need to provide your API key in an Authorization header using Bearer auth (i.e. Authorization: Bearer YOUR_KEY), or as the password field (with blank username) if you're accessing the API from your browser and are prompted for a username and password. You can obtain an API key from https://platform.openai.com/account/api-keys."
          ]
        }
      ]
    }
  ]
}